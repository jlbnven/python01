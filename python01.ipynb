{
 "cells": [
  {
   "cell_type": "markdown",
   "metadata": {},
   "source": [
    "####  primeros pasos en Python\n",
    "* VAriables\n",
    "* operadores matematicos\n",
    "* operadores de comparacion\n",
    "* Operadores Logicos\n",
    "* Estructura de Contol\n",
    "    - Condicionales\n",
    "    - Ciclos Finitos e Infinitos\n",
    "    - Funciones\n",
    "* Estructura de control basicas\n",
    "     - Cadenas\n",
    "     -Numeros Enteros /Flotantes\n",
    "     -Listas\n",
    "     -Diccionarios\n",
    "     - Tuplas\n",
    "* Fundamentos de programacion orientada a objetos\n",
    "\n",
    "\n",
    "  "
   ]
  },
  {
   "cell_type": "code",
   "execution_count": 2,
   "metadata": {},
   "outputs": [
    {
     "name": "stdout",
     "output_type": "stream",
     "text": [
      "epale\n"
     ]
    }
   ],
   "source": [
    "print(\"epale\")"
   ]
  },
  {
   "cell_type": "code",
   "execution_count": 4,
   "metadata": {},
   "outputs": [],
   "source": [
    "# vafriable\n",
    "name = \"Jose Luis\"\n",
    "last_name = \"Blanco\"\n"
   ]
  },
  {
   "cell_type": "code",
   "execution_count": 6,
   "metadata": {},
   "outputs": [
    {
     "data": {
      "text/plain": [
       "'Blanco'"
      ]
     },
     "execution_count": 6,
     "metadata": {},
     "output_type": "execute_result"
    }
   ],
   "source": [
    "last_name"
   ]
  },
  {
   "cell_type": "code",
   "execution_count": 8,
   "metadata": {},
   "outputs": [],
   "source": [
    "num1 = 10\n",
    "num2 = 20\n",
    "num3 = 30"
   ]
  },
  {
   "cell_type": "code",
   "execution_count": 9,
   "metadata": {},
   "outputs": [
    {
     "data": {
      "text/plain": [
       "20"
      ]
     },
     "execution_count": 9,
     "metadata": {},
     "output_type": "execute_result"
    }
   ],
   "source": [
    "num2"
   ]
  },
  {
   "cell_type": "code",
   "execution_count": 10,
   "metadata": {},
   "outputs": [],
   "source": [
    "# operadores matematicos\n",
    "result_add = num1 + num2\n",
    "result_sub = num3 - num2\n",
    "result_mult = num1 * num3\n",
    "result_div = num3 / num1"
   ]
  },
  {
   "cell_type": "code",
   "execution_count": 17,
   "metadata": {},
   "outputs": [
    {
     "name": "stdout",
     "output_type": "stream",
     "text": [
      "Resultado de la suma: 30\n",
      "resultado de la resta: 10\n",
      "Resultado de la Multiplicacion: 300\n",
      "Resultado de la Division: 3.0\n",
      "Resultado de la Division: 3.0\n"
     ]
    }
   ],
   "source": [
    "print (\"Resultado de la suma:\",result_add)\n",
    "print (\"resultado de la resta:\",result_sub)\n",
    "print (\"Resultado de la Multiplicacion:\",result_mult)\n",
    "print (\"Resultado de la Division:\",result_div)\n",
    "print (f\"Resultado de la Division: {result_div}\")"
   ]
  },
  {
   "cell_type": "code",
   "execution_count": null,
   "metadata": {},
   "outputs": [],
   "source": [
    "#operadores Booleanos\n",
    "True\n",
    "False"
   ]
  },
  {
   "cell_type": "code",
   "execution_count": null,
   "metadata": {},
   "outputs": [],
   "source": [
    "#Operadores de comparacion\n",
    "#mayor que >\n",
    "#menor que <\n",
    "#mayor igual que >=\n",
    "#menor igual que <=\n",
    "#igual a ==\n",
    "#diferente !="
   ]
  },
  {
   "cell_type": "code",
   "execution_count": 18,
   "metadata": {},
   "outputs": [
    {
     "data": {
      "text/plain": [
       "False"
      ]
     },
     "execution_count": 18,
     "metadata": {},
     "output_type": "execute_result"
    }
   ],
   "source": [
    "3>5"
   ]
  },
  {
   "cell_type": "code",
   "execution_count": 19,
   "metadata": {},
   "outputs": [
    {
     "data": {
      "text/plain": [
       "True"
      ]
     },
     "execution_count": 19,
     "metadata": {},
     "output_type": "execute_result"
    }
   ],
   "source": [
    "5>3"
   ]
  },
  {
   "cell_type": "code",
   "execution_count": 21,
   "metadata": {},
   "outputs": [
    {
     "name": "stdout",
     "output_type": "stream",
     "text": [
      "El resultdo de la suma 30 es mayor que 10\n"
     ]
    }
   ],
   "source": [
    "#condicionales simple\n",
    "if result_add > result_sub:\n",
    "    print(f\"El resultdo de la suma {result_add} es mayor que {result_sub}\")"
   ]
  },
  {
   "cell_type": "code",
   "execution_count": 22,
   "metadata": {},
   "outputs": [
    {
     "name": "stdout",
     "output_type": "stream",
     "text": [
      "El resultdo de la suma 30 es mayor que 10\n"
     ]
    }
   ],
   "source": [
    "#condicionales simple\n",
    "if result_add < result_sub:\n",
    "    print(f\"El resultdo de la suma {result_add} es menor que {result_sub}\")\n",
    "else:\n",
    "    print(f\"El resultdo de la suma {result_add} es mayor que {result_sub}\")"
   ]
  },
  {
   "cell_type": "code",
   "execution_count": null,
   "metadata": {},
   "outputs": [],
   "source": [
    "#operadores Logicos\n",
    "# and\n",
    "# or\n",
    "# not "
   ]
  }
 ],
 "metadata": {
  "kernelspec": {
   "display_name": "Python 3",
   "language": "python",
   "name": "python3"
  },
  "language_info": {
   "codemirror_mode": {
    "name": "ipython",
    "version": 3
   },
   "file_extension": ".py",
   "mimetype": "text/x-python",
   "name": "python",
   "nbconvert_exporter": "python",
   "pygments_lexer": "ipython3",
   "version": "3.13.0"
  }
 },
 "nbformat": 4,
 "nbformat_minor": 2
}
